{
 "cells": [
  {
   "cell_type": "code",
   "execution_count": 1,
   "id": "171cb9ef-2b60-42ee-ac40-09a9d211c513",
   "metadata": {},
   "outputs": [],
   "source": [
    "import pandas as pd"
   ]
  },
  {
   "cell_type": "code",
   "execution_count": 2,
   "id": "5a625a36-ddca-48a4-a8d5-c25607147e20",
   "metadata": {},
   "outputs": [],
   "source": [
    "df = pd.read_csv('delhi_air_quality_feature_store_processed.csv')"
   ]
  },
  {
   "cell_type": "code",
   "execution_count": 3,
   "id": "5f8d3a16-2c05-4ac5-9a89-3e74294d74a9",
   "metadata": {},
   "outputs": [
    {
     "data": {
      "text/html": [
       "<div>\n",
       "<style scoped>\n",
       "    .dataframe tbody tr th:only-of-type {\n",
       "        vertical-align: middle;\n",
       "    }\n",
       "\n",
       "    .dataframe tbody tr th {\n",
       "        vertical-align: top;\n",
       "    }\n",
       "\n",
       "    .dataframe thead th {\n",
       "        text-align: right;\n",
       "    }\n",
       "</style>\n",
       "<table border=\"1\" class=\"dataframe\">\n",
       "  <thead>\n",
       "    <tr style=\"text-align: right;\">\n",
       "      <th></th>\n",
       "      <th>location_id</th>\n",
       "      <th>city</th>\n",
       "      <th>event_timestamp</th>\n",
       "      <th>temperature</th>\n",
       "      <th>humidity</th>\n",
       "      <th>pressure</th>\n",
       "      <th>wind_speed</th>\n",
       "      <th>wind_direction</th>\n",
       "      <th>pm25</th>\n",
       "      <th>pm10</th>\n",
       "      <th>no2</th>\n",
       "      <th>so2</th>\n",
       "      <th>o3</th>\n",
       "      <th>co</th>\n",
       "      <th>aqi</th>\n",
       "    </tr>\n",
       "  </thead>\n",
       "  <tbody>\n",
       "    <tr>\n",
       "      <th>0</th>\n",
       "      <td>Delhi Institute of Tool Engineering, Wazirpur,...</td>\n",
       "      <td>Wazirpur</td>\n",
       "      <td>2000-03-15 13:44:28.651396</td>\n",
       "      <td>30.450</td>\n",
       "      <td>74.100</td>\n",
       "      <td>990.425</td>\n",
       "      <td>0.300</td>\n",
       "      <td>21.7</td>\n",
       "      <td>252.0</td>\n",
       "      <td>332.0</td>\n",
       "      <td>62.4</td>\n",
       "      <td>4.8</td>\n",
       "      <td>22.4</td>\n",
       "      <td>35.7</td>\n",
       "      <td>332.0</td>\n",
       "    </tr>\n",
       "    <tr>\n",
       "      <th>1</th>\n",
       "      <td>Satyawati College, Delhi, Delhi, India</td>\n",
       "      <td>Delhi</td>\n",
       "      <td>2000-03-15 13:44:28.651396</td>\n",
       "      <td>26.675</td>\n",
       "      <td>74.350</td>\n",
       "      <td>980.650</td>\n",
       "      <td>1.375</td>\n",
       "      <td>55.3</td>\n",
       "      <td>256.0</td>\n",
       "      <td>234.0</td>\n",
       "      <td>59.2</td>\n",
       "      <td>11.9</td>\n",
       "      <td>2.1</td>\n",
       "      <td>33.8</td>\n",
       "      <td>256.0</td>\n",
       "    </tr>\n",
       "    <tr>\n",
       "      <th>2</th>\n",
       "      <td>ITI Shahdra, Jhilmil Industrial Area, Delhi, D...</td>\n",
       "      <td>Jhilmil</td>\n",
       "      <td>2000-03-15 13:44:28.651396</td>\n",
       "      <td>28.775</td>\n",
       "      <td>62.925</td>\n",
       "      <td>984.350</td>\n",
       "      <td>0.300</td>\n",
       "      <td>221.3</td>\n",
       "      <td>265.0</td>\n",
       "      <td>210.0</td>\n",
       "      <td>48.3</td>\n",
       "      <td>5.1</td>\n",
       "      <td>8.2</td>\n",
       "      <td>35.1</td>\n",
       "      <td>265.0</td>\n",
       "    </tr>\n",
       "    <tr>\n",
       "      <th>3</th>\n",
       "      <td>Sonia Vihar Water Treatment Plant DJB, Delhi, ...</td>\n",
       "      <td>Sonia Vihar</td>\n",
       "      <td>2000-03-15 13:44:28.651396</td>\n",
       "      <td>26.575</td>\n",
       "      <td>78.525</td>\n",
       "      <td>991.300</td>\n",
       "      <td>0.300</td>\n",
       "      <td>313.6</td>\n",
       "      <td>251.0</td>\n",
       "      <td>177.0</td>\n",
       "      <td>16.5</td>\n",
       "      <td>1.8</td>\n",
       "      <td>1.7</td>\n",
       "      <td>24.9</td>\n",
       "      <td>251.0</td>\n",
       "    </tr>\n",
       "    <tr>\n",
       "      <th>4</th>\n",
       "      <td>PGDAV College, Sriniwaspuri, Delhi, Delhi, India</td>\n",
       "      <td>Sriniwaspuri</td>\n",
       "      <td>2000-03-15 13:44:28.651396</td>\n",
       "      <td>22.300</td>\n",
       "      <td>71.425</td>\n",
       "      <td>985.650</td>\n",
       "      <td>0.300</td>\n",
       "      <td>347.1</td>\n",
       "      <td>282.0</td>\n",
       "      <td>347.0</td>\n",
       "      <td>43.1</td>\n",
       "      <td>5.2</td>\n",
       "      <td>3.4</td>\n",
       "      <td>29.9</td>\n",
       "      <td>347.0</td>\n",
       "    </tr>\n",
       "  </tbody>\n",
       "</table>\n",
       "</div>"
      ],
      "text/plain": [
       "                                         location_id          city  \\\n",
       "0  Delhi Institute of Tool Engineering, Wazirpur,...      Wazirpur   \n",
       "1             Satyawati College, Delhi, Delhi, India         Delhi   \n",
       "2  ITI Shahdra, Jhilmil Industrial Area, Delhi, D...       Jhilmil   \n",
       "3  Sonia Vihar Water Treatment Plant DJB, Delhi, ...   Sonia Vihar   \n",
       "4   PGDAV College, Sriniwaspuri, Delhi, Delhi, India  Sriniwaspuri   \n",
       "\n",
       "              event_timestamp  temperature  humidity  pressure  wind_speed  \\\n",
       "0  2000-03-15 13:44:28.651396       30.450    74.100   990.425       0.300   \n",
       "1  2000-03-15 13:44:28.651396       26.675    74.350   980.650       1.375   \n",
       "2  2000-03-15 13:44:28.651396       28.775    62.925   984.350       0.300   \n",
       "3  2000-03-15 13:44:28.651396       26.575    78.525   991.300       0.300   \n",
       "4  2000-03-15 13:44:28.651396       22.300    71.425   985.650       0.300   \n",
       "\n",
       "   wind_direction   pm25   pm10   no2   so2    o3    co    aqi  \n",
       "0            21.7  252.0  332.0  62.4   4.8  22.4  35.7  332.0  \n",
       "1            55.3  256.0  234.0  59.2  11.9   2.1  33.8  256.0  \n",
       "2           221.3  265.0  210.0  48.3   5.1   8.2  35.1  265.0  \n",
       "3           313.6  251.0  177.0  16.5   1.8   1.7  24.9  251.0  \n",
       "4           347.1  282.0  347.0  43.1   5.2   3.4  29.9  347.0  "
      ]
     },
     "execution_count": 3,
     "metadata": {},
     "output_type": "execute_result"
    }
   ],
   "source": [
    "df.head()"
   ]
  },
  {
   "cell_type": "code",
   "execution_count": 4,
   "id": "9ec557f8-878a-4621-8b29-11195ebc255d",
   "metadata": {},
   "outputs": [
    {
     "data": {
      "text/plain": [
       "(2921413, 15)"
      ]
     },
     "execution_count": 4,
     "metadata": {},
     "output_type": "execute_result"
    }
   ],
   "source": [
    "df.shape"
   ]
  },
  {
   "cell_type": "code",
   "execution_count": null,
   "id": "b76cdf27-4141-40d3-ba64-1d3e8c3c7ac7",
   "metadata": {},
   "outputs": [],
   "source": []
  },
  {
   "cell_type": "code",
   "execution_count": 5,
   "id": "21f5243e-93c4-44e1-b42f-5eac6ca3247c",
   "metadata": {},
   "outputs": [
    {
     "data": {
      "text/html": [
       "<div>\n",
       "<style scoped>\n",
       "    .dataframe tbody tr th:only-of-type {\n",
       "        vertical-align: middle;\n",
       "    }\n",
       "\n",
       "    .dataframe tbody tr th {\n",
       "        vertical-align: top;\n",
       "    }\n",
       "\n",
       "    .dataframe thead th {\n",
       "        text-align: right;\n",
       "    }\n",
       "</style>\n",
       "<table border=\"1\" class=\"dataframe\">\n",
       "  <thead>\n",
       "    <tr style=\"text-align: right;\">\n",
       "      <th></th>\n",
       "      <th>location_id</th>\n",
       "      <th>city</th>\n",
       "      <th>event_timestamp</th>\n",
       "      <th>temperature</th>\n",
       "      <th>humidity</th>\n",
       "      <th>pressure</th>\n",
       "      <th>wind_speed</th>\n",
       "      <th>wind_direction</th>\n",
       "      <th>pm25</th>\n",
       "      <th>pm10</th>\n",
       "      <th>no2</th>\n",
       "      <th>so2</th>\n",
       "      <th>o3</th>\n",
       "      <th>co</th>\n",
       "      <th>aqi</th>\n",
       "    </tr>\n",
       "  </thead>\n",
       "  <tbody>\n",
       "    <tr>\n",
       "      <th>0</th>\n",
       "      <td>Delhi Institute of Tool Engineering, Wazirpur,...</td>\n",
       "      <td>Wazirpur</td>\n",
       "      <td>2000-03-15 13:44:28.651396</td>\n",
       "      <td>30.450</td>\n",
       "      <td>74.100</td>\n",
       "      <td>990.425</td>\n",
       "      <td>0.300</td>\n",
       "      <td>21.7</td>\n",
       "      <td>252.0</td>\n",
       "      <td>332.0</td>\n",
       "      <td>62.4</td>\n",
       "      <td>4.8</td>\n",
       "      <td>22.4</td>\n",
       "      <td>35.7</td>\n",
       "      <td>332.0</td>\n",
       "    </tr>\n",
       "    <tr>\n",
       "      <th>1</th>\n",
       "      <td>Satyawati College, Delhi, Delhi, India</td>\n",
       "      <td>Delhi</td>\n",
       "      <td>2000-03-15 13:44:28.651396</td>\n",
       "      <td>26.675</td>\n",
       "      <td>74.350</td>\n",
       "      <td>980.650</td>\n",
       "      <td>1.375</td>\n",
       "      <td>55.3</td>\n",
       "      <td>256.0</td>\n",
       "      <td>234.0</td>\n",
       "      <td>59.2</td>\n",
       "      <td>11.9</td>\n",
       "      <td>2.1</td>\n",
       "      <td>33.8</td>\n",
       "      <td>256.0</td>\n",
       "    </tr>\n",
       "    <tr>\n",
       "      <th>2</th>\n",
       "      <td>ITI Shahdra, Jhilmil Industrial Area, Delhi, D...</td>\n",
       "      <td>Jhilmil</td>\n",
       "      <td>2000-03-15 13:44:28.651396</td>\n",
       "      <td>28.775</td>\n",
       "      <td>62.925</td>\n",
       "      <td>984.350</td>\n",
       "      <td>0.300</td>\n",
       "      <td>221.3</td>\n",
       "      <td>265.0</td>\n",
       "      <td>210.0</td>\n",
       "      <td>48.3</td>\n",
       "      <td>5.1</td>\n",
       "      <td>8.2</td>\n",
       "      <td>35.1</td>\n",
       "      <td>265.0</td>\n",
       "    </tr>\n",
       "    <tr>\n",
       "      <th>3</th>\n",
       "      <td>Sonia Vihar Water Treatment Plant DJB, Delhi, ...</td>\n",
       "      <td>Sonia Vihar</td>\n",
       "      <td>2000-03-15 13:44:28.651396</td>\n",
       "      <td>26.575</td>\n",
       "      <td>78.525</td>\n",
       "      <td>991.300</td>\n",
       "      <td>0.300</td>\n",
       "      <td>313.6</td>\n",
       "      <td>251.0</td>\n",
       "      <td>177.0</td>\n",
       "      <td>16.5</td>\n",
       "      <td>1.8</td>\n",
       "      <td>1.7</td>\n",
       "      <td>24.9</td>\n",
       "      <td>251.0</td>\n",
       "    </tr>\n",
       "    <tr>\n",
       "      <th>4</th>\n",
       "      <td>PGDAV College, Sriniwaspuri, Delhi, Delhi, India</td>\n",
       "      <td>Sriniwaspuri</td>\n",
       "      <td>2000-03-15 13:44:28.651396</td>\n",
       "      <td>22.300</td>\n",
       "      <td>71.425</td>\n",
       "      <td>985.650</td>\n",
       "      <td>0.300</td>\n",
       "      <td>347.1</td>\n",
       "      <td>282.0</td>\n",
       "      <td>347.0</td>\n",
       "      <td>43.1</td>\n",
       "      <td>5.2</td>\n",
       "      <td>3.4</td>\n",
       "      <td>29.9</td>\n",
       "      <td>347.0</td>\n",
       "    </tr>\n",
       "  </tbody>\n",
       "</table>\n",
       "</div>"
      ],
      "text/plain": [
       "                                         location_id          city  \\\n",
       "0  Delhi Institute of Tool Engineering, Wazirpur,...      Wazirpur   \n",
       "1             Satyawati College, Delhi, Delhi, India         Delhi   \n",
       "2  ITI Shahdra, Jhilmil Industrial Area, Delhi, D...       Jhilmil   \n",
       "3  Sonia Vihar Water Treatment Plant DJB, Delhi, ...   Sonia Vihar   \n",
       "4   PGDAV College, Sriniwaspuri, Delhi, Delhi, India  Sriniwaspuri   \n",
       "\n",
       "              event_timestamp  temperature  humidity  pressure  wind_speed  \\\n",
       "0  2000-03-15 13:44:28.651396       30.450    74.100   990.425       0.300   \n",
       "1  2000-03-15 13:44:28.651396       26.675    74.350   980.650       1.375   \n",
       "2  2000-03-15 13:44:28.651396       28.775    62.925   984.350       0.300   \n",
       "3  2000-03-15 13:44:28.651396       26.575    78.525   991.300       0.300   \n",
       "4  2000-03-15 13:44:28.651396       22.300    71.425   985.650       0.300   \n",
       "\n",
       "   wind_direction   pm25   pm10   no2   so2    o3    co    aqi  \n",
       "0            21.7  252.0  332.0  62.4   4.8  22.4  35.7  332.0  \n",
       "1            55.3  256.0  234.0  59.2  11.9   2.1  33.8  256.0  \n",
       "2           221.3  265.0  210.0  48.3   5.1   8.2  35.1  265.0  \n",
       "3           313.6  251.0  177.0  16.5   1.8   1.7  24.9  251.0  \n",
       "4           347.1  282.0  347.0  43.1   5.2   3.4  29.9  347.0  "
      ]
     },
     "execution_count": 5,
     "metadata": {},
     "output_type": "execute_result"
    }
   ],
   "source": [
    "df.head()"
   ]
  },
  {
   "cell_type": "code",
   "execution_count": 6,
   "id": "d689dcf3-bb97-4bdc-8021-976641194da9",
   "metadata": {},
   "outputs": [
    {
     "data": {
      "text/plain": [
       "(2921413, 15)"
      ]
     },
     "execution_count": 6,
     "metadata": {},
     "output_type": "execute_result"
    }
   ],
   "source": [
    "df.shape"
   ]
  },
  {
   "cell_type": "code",
   "execution_count": 7,
   "id": "1c6674ac-0ec1-4598-af02-99995669c674",
   "metadata": {},
   "outputs": [],
   "source": [
    "df = df.reset_index(drop=True)"
   ]
  },
  {
   "cell_type": "code",
   "execution_count": 8,
   "id": "b90e6939-0273-43bc-a857-e382464126ee",
   "metadata": {},
   "outputs": [],
   "source": [
    "df = df.drop(columns=['location_id'])"
   ]
  },
  {
   "cell_type": "code",
   "execution_count": 9,
   "id": "2d4f8015-8191-4fad-806b-f2ae1571ed09",
   "metadata": {},
   "outputs": [],
   "source": [
    "df['event_timestamp'] = pd.to_datetime(df['event_timestamp'], errors='coerce')\n",
    "df['hour'] = df['event_timestamp'].dt.hour\n",
    "df['month'] = df['event_timestamp'].dt.month\n",
    "df['dayofweek'] = df['event_timestamp'].dt.dayofweek\n",
    "\n",
    "df = df.drop(columns=['event_timestamp'])\n"
   ]
  },
  {
   "cell_type": "code",
   "execution_count": 10,
   "id": "1d9adc41-c0e1-4f49-9ced-f30c2e5c7a14",
   "metadata": {},
   "outputs": [
    {
     "data": {
      "text/html": [
       "<div>\n",
       "<style scoped>\n",
       "    .dataframe tbody tr th:only-of-type {\n",
       "        vertical-align: middle;\n",
       "    }\n",
       "\n",
       "    .dataframe tbody tr th {\n",
       "        vertical-align: top;\n",
       "    }\n",
       "\n",
       "    .dataframe thead th {\n",
       "        text-align: right;\n",
       "    }\n",
       "</style>\n",
       "<table border=\"1\" class=\"dataframe\">\n",
       "  <thead>\n",
       "    <tr style=\"text-align: right;\">\n",
       "      <th></th>\n",
       "      <th>city</th>\n",
       "      <th>temperature</th>\n",
       "      <th>humidity</th>\n",
       "      <th>pressure</th>\n",
       "      <th>wind_speed</th>\n",
       "      <th>wind_direction</th>\n",
       "      <th>pm25</th>\n",
       "      <th>pm10</th>\n",
       "      <th>no2</th>\n",
       "      <th>so2</th>\n",
       "      <th>o3</th>\n",
       "      <th>co</th>\n",
       "      <th>aqi</th>\n",
       "      <th>hour</th>\n",
       "      <th>month</th>\n",
       "      <th>dayofweek</th>\n",
       "    </tr>\n",
       "  </thead>\n",
       "  <tbody>\n",
       "    <tr>\n",
       "      <th>0</th>\n",
       "      <td>Wazirpur</td>\n",
       "      <td>30.450</td>\n",
       "      <td>74.100</td>\n",
       "      <td>990.425</td>\n",
       "      <td>0.300</td>\n",
       "      <td>21.7</td>\n",
       "      <td>252.0</td>\n",
       "      <td>332.0</td>\n",
       "      <td>62.4</td>\n",
       "      <td>4.8</td>\n",
       "      <td>22.4</td>\n",
       "      <td>35.7</td>\n",
       "      <td>332.0</td>\n",
       "      <td>13</td>\n",
       "      <td>3</td>\n",
       "      <td>2</td>\n",
       "    </tr>\n",
       "    <tr>\n",
       "      <th>1</th>\n",
       "      <td>Delhi</td>\n",
       "      <td>26.675</td>\n",
       "      <td>74.350</td>\n",
       "      <td>980.650</td>\n",
       "      <td>1.375</td>\n",
       "      <td>55.3</td>\n",
       "      <td>256.0</td>\n",
       "      <td>234.0</td>\n",
       "      <td>59.2</td>\n",
       "      <td>11.9</td>\n",
       "      <td>2.1</td>\n",
       "      <td>33.8</td>\n",
       "      <td>256.0</td>\n",
       "      <td>13</td>\n",
       "      <td>3</td>\n",
       "      <td>2</td>\n",
       "    </tr>\n",
       "    <tr>\n",
       "      <th>2</th>\n",
       "      <td>Jhilmil</td>\n",
       "      <td>28.775</td>\n",
       "      <td>62.925</td>\n",
       "      <td>984.350</td>\n",
       "      <td>0.300</td>\n",
       "      <td>221.3</td>\n",
       "      <td>265.0</td>\n",
       "      <td>210.0</td>\n",
       "      <td>48.3</td>\n",
       "      <td>5.1</td>\n",
       "      <td>8.2</td>\n",
       "      <td>35.1</td>\n",
       "      <td>265.0</td>\n",
       "      <td>13</td>\n",
       "      <td>3</td>\n",
       "      <td>2</td>\n",
       "    </tr>\n",
       "    <tr>\n",
       "      <th>3</th>\n",
       "      <td>Sonia Vihar</td>\n",
       "      <td>26.575</td>\n",
       "      <td>78.525</td>\n",
       "      <td>991.300</td>\n",
       "      <td>0.300</td>\n",
       "      <td>313.6</td>\n",
       "      <td>251.0</td>\n",
       "      <td>177.0</td>\n",
       "      <td>16.5</td>\n",
       "      <td>1.8</td>\n",
       "      <td>1.7</td>\n",
       "      <td>24.9</td>\n",
       "      <td>251.0</td>\n",
       "      <td>13</td>\n",
       "      <td>3</td>\n",
       "      <td>2</td>\n",
       "    </tr>\n",
       "    <tr>\n",
       "      <th>4</th>\n",
       "      <td>Sriniwaspuri</td>\n",
       "      <td>22.300</td>\n",
       "      <td>71.425</td>\n",
       "      <td>985.650</td>\n",
       "      <td>0.300</td>\n",
       "      <td>347.1</td>\n",
       "      <td>282.0</td>\n",
       "      <td>347.0</td>\n",
       "      <td>43.1</td>\n",
       "      <td>5.2</td>\n",
       "      <td>3.4</td>\n",
       "      <td>29.9</td>\n",
       "      <td>347.0</td>\n",
       "      <td>13</td>\n",
       "      <td>3</td>\n",
       "      <td>2</td>\n",
       "    </tr>\n",
       "  </tbody>\n",
       "</table>\n",
       "</div>"
      ],
      "text/plain": [
       "           city  temperature  humidity  pressure  wind_speed  wind_direction  \\\n",
       "0      Wazirpur       30.450    74.100   990.425       0.300            21.7   \n",
       "1         Delhi       26.675    74.350   980.650       1.375            55.3   \n",
       "2       Jhilmil       28.775    62.925   984.350       0.300           221.3   \n",
       "3   Sonia Vihar       26.575    78.525   991.300       0.300           313.6   \n",
       "4  Sriniwaspuri       22.300    71.425   985.650       0.300           347.1   \n",
       "\n",
       "    pm25   pm10   no2   so2    o3    co    aqi  hour  month  dayofweek  \n",
       "0  252.0  332.0  62.4   4.8  22.4  35.7  332.0    13      3          2  \n",
       "1  256.0  234.0  59.2  11.9   2.1  33.8  256.0    13      3          2  \n",
       "2  265.0  210.0  48.3   5.1   8.2  35.1  265.0    13      3          2  \n",
       "3  251.0  177.0  16.5   1.8   1.7  24.9  251.0    13      3          2  \n",
       "4  282.0  347.0  43.1   5.2   3.4  29.9  347.0    13      3          2  "
      ]
     },
     "execution_count": 10,
     "metadata": {},
     "output_type": "execute_result"
    }
   ],
   "source": [
    "df.head()"
   ]
  },
  {
   "cell_type": "code",
   "execution_count": 11,
   "id": "ed12e6af-5213-4fa9-b9ea-e230a5d39531",
   "metadata": {},
   "outputs": [
    {
     "name": "stdout",
     "output_type": "stream",
     "text": [
      "<class 'pandas.core.frame.DataFrame'>\n",
      "RangeIndex: 2921413 entries, 0 to 2921412\n",
      "Data columns (total 16 columns):\n",
      " #   Column          Dtype  \n",
      "---  ------          -----  \n",
      " 0   city            object \n",
      " 1   temperature     float64\n",
      " 2   humidity        float64\n",
      " 3   pressure        float64\n",
      " 4   wind_speed      float64\n",
      " 5   wind_direction  float64\n",
      " 6   pm25            float64\n",
      " 7   pm10            float64\n",
      " 8   no2             float64\n",
      " 9   so2             float64\n",
      " 10  o3              float64\n",
      " 11  co              float64\n",
      " 12  aqi             float64\n",
      " 13  hour            int32  \n",
      " 14  month           int32  \n",
      " 15  dayofweek       int32  \n",
      "dtypes: float64(12), int32(3), object(1)\n",
      "memory usage: 323.2+ MB\n"
     ]
    }
   ],
   "source": [
    "df.info()"
   ]
  },
  {
   "cell_type": "code",
   "execution_count": 12,
   "id": "8176e01f-c57b-4422-b4ef-2f5c34f8db8f",
   "metadata": {},
   "outputs": [
    {
     "data": {
      "text/plain": [
       "city              0\n",
       "temperature       0\n",
       "humidity          0\n",
       "pressure          0\n",
       "wind_speed        0\n",
       "wind_direction    0\n",
       "pm25              0\n",
       "pm10              0\n",
       "no2               0\n",
       "so2               0\n",
       "o3                0\n",
       "co                0\n",
       "aqi               0\n",
       "hour              0\n",
       "month             0\n",
       "dayofweek         0\n",
       "dtype: int64"
      ]
     },
     "execution_count": 12,
     "metadata": {},
     "output_type": "execute_result"
    }
   ],
   "source": [
    "df.isnull().sum()"
   ]
  },
  {
   "cell_type": "code",
   "execution_count": 13,
   "id": "b12bcfe6-4d4a-4cd9-84de-157df281883a",
   "metadata": {},
   "outputs": [],
   "source": [
    "#handling the outliers\n",
    "\n",
    "for col in ['pm25', 'pm10', 'no2', 'so2', 'o3', 'co']:\n",
    "    df[col] = df[col].clip(lower=0, upper=df[col].quantile(0.99))\n"
   ]
  },
  {
   "cell_type": "code",
   "execution_count": 14,
   "id": "ef0ecc91-e2ec-4140-ba05-f14930d952ae",
   "metadata": {},
   "outputs": [
    {
     "data": {
      "text/html": [
       "<div>\n",
       "<style scoped>\n",
       "    .dataframe tbody tr th:only-of-type {\n",
       "        vertical-align: middle;\n",
       "    }\n",
       "\n",
       "    .dataframe tbody tr th {\n",
       "        vertical-align: top;\n",
       "    }\n",
       "\n",
       "    .dataframe thead th {\n",
       "        text-align: right;\n",
       "    }\n",
       "</style>\n",
       "<table border=\"1\" class=\"dataframe\">\n",
       "  <thead>\n",
       "    <tr style=\"text-align: right;\">\n",
       "      <th></th>\n",
       "      <th>city</th>\n",
       "      <th>temperature</th>\n",
       "      <th>humidity</th>\n",
       "      <th>pressure</th>\n",
       "      <th>wind_speed</th>\n",
       "      <th>wind_direction</th>\n",
       "      <th>pm25</th>\n",
       "      <th>pm10</th>\n",
       "      <th>no2</th>\n",
       "      <th>so2</th>\n",
       "      <th>o3</th>\n",
       "      <th>co</th>\n",
       "      <th>aqi</th>\n",
       "      <th>hour</th>\n",
       "      <th>month</th>\n",
       "      <th>dayofweek</th>\n",
       "    </tr>\n",
       "  </thead>\n",
       "  <tbody>\n",
       "    <tr>\n",
       "      <th>0</th>\n",
       "      <td>Wazirpur</td>\n",
       "      <td>30.450</td>\n",
       "      <td>74.100</td>\n",
       "      <td>990.425</td>\n",
       "      <td>0.300</td>\n",
       "      <td>21.7</td>\n",
       "      <td>252.0</td>\n",
       "      <td>332.0</td>\n",
       "      <td>62.4</td>\n",
       "      <td>4.8</td>\n",
       "      <td>22.4</td>\n",
       "      <td>35.7</td>\n",
       "      <td>332.0</td>\n",
       "      <td>13</td>\n",
       "      <td>3</td>\n",
       "      <td>2</td>\n",
       "    </tr>\n",
       "    <tr>\n",
       "      <th>1</th>\n",
       "      <td>Delhi</td>\n",
       "      <td>26.675</td>\n",
       "      <td>74.350</td>\n",
       "      <td>980.650</td>\n",
       "      <td>1.375</td>\n",
       "      <td>55.3</td>\n",
       "      <td>256.0</td>\n",
       "      <td>234.0</td>\n",
       "      <td>59.2</td>\n",
       "      <td>11.9</td>\n",
       "      <td>2.1</td>\n",
       "      <td>33.8</td>\n",
       "      <td>256.0</td>\n",
       "      <td>13</td>\n",
       "      <td>3</td>\n",
       "      <td>2</td>\n",
       "    </tr>\n",
       "    <tr>\n",
       "      <th>2</th>\n",
       "      <td>Jhilmil</td>\n",
       "      <td>28.775</td>\n",
       "      <td>62.925</td>\n",
       "      <td>984.350</td>\n",
       "      <td>0.300</td>\n",
       "      <td>221.3</td>\n",
       "      <td>265.0</td>\n",
       "      <td>210.0</td>\n",
       "      <td>48.3</td>\n",
       "      <td>5.1</td>\n",
       "      <td>8.2</td>\n",
       "      <td>35.1</td>\n",
       "      <td>265.0</td>\n",
       "      <td>13</td>\n",
       "      <td>3</td>\n",
       "      <td>2</td>\n",
       "    </tr>\n",
       "    <tr>\n",
       "      <th>3</th>\n",
       "      <td>Sonia Vihar</td>\n",
       "      <td>26.575</td>\n",
       "      <td>78.525</td>\n",
       "      <td>991.300</td>\n",
       "      <td>0.300</td>\n",
       "      <td>313.6</td>\n",
       "      <td>251.0</td>\n",
       "      <td>177.0</td>\n",
       "      <td>16.5</td>\n",
       "      <td>1.8</td>\n",
       "      <td>1.7</td>\n",
       "      <td>24.9</td>\n",
       "      <td>251.0</td>\n",
       "      <td>13</td>\n",
       "      <td>3</td>\n",
       "      <td>2</td>\n",
       "    </tr>\n",
       "    <tr>\n",
       "      <th>4</th>\n",
       "      <td>Sriniwaspuri</td>\n",
       "      <td>22.300</td>\n",
       "      <td>71.425</td>\n",
       "      <td>985.650</td>\n",
       "      <td>0.300</td>\n",
       "      <td>347.1</td>\n",
       "      <td>282.0</td>\n",
       "      <td>347.0</td>\n",
       "      <td>43.1</td>\n",
       "      <td>5.2</td>\n",
       "      <td>3.4</td>\n",
       "      <td>29.9</td>\n",
       "      <td>347.0</td>\n",
       "      <td>13</td>\n",
       "      <td>3</td>\n",
       "      <td>2</td>\n",
       "    </tr>\n",
       "  </tbody>\n",
       "</table>\n",
       "</div>"
      ],
      "text/plain": [
       "           city  temperature  humidity  pressure  wind_speed  wind_direction  \\\n",
       "0      Wazirpur       30.450    74.100   990.425       0.300            21.7   \n",
       "1         Delhi       26.675    74.350   980.650       1.375            55.3   \n",
       "2       Jhilmil       28.775    62.925   984.350       0.300           221.3   \n",
       "3   Sonia Vihar       26.575    78.525   991.300       0.300           313.6   \n",
       "4  Sriniwaspuri       22.300    71.425   985.650       0.300           347.1   \n",
       "\n",
       "    pm25   pm10   no2   so2    o3    co    aqi  hour  month  dayofweek  \n",
       "0  252.0  332.0  62.4   4.8  22.4  35.7  332.0    13      3          2  \n",
       "1  256.0  234.0  59.2  11.9   2.1  33.8  256.0    13      3          2  \n",
       "2  265.0  210.0  48.3   5.1   8.2  35.1  265.0    13      3          2  \n",
       "3  251.0  177.0  16.5   1.8   1.7  24.9  251.0    13      3          2  \n",
       "4  282.0  347.0  43.1   5.2   3.4  29.9  347.0    13      3          2  "
      ]
     },
     "execution_count": 14,
     "metadata": {},
     "output_type": "execute_result"
    }
   ],
   "source": [
    "df.head()"
   ]
  },
  {
   "cell_type": "code",
   "execution_count": 15,
   "id": "95013686-5113-4198-9e23-a5354e7e1547",
   "metadata": {},
   "outputs": [],
   "source": [
    "from sklearn.preprocessing import LabelEncoder"
   ]
  },
  {
   "cell_type": "code",
   "execution_count": 16,
   "id": "11d34c4b-0353-47c5-9efe-d38798ad88d6",
   "metadata": {},
   "outputs": [],
   "source": [
    "le = LabelEncoder()\n",
    "df['city'] = le.fit_transform(df['city'])"
   ]
  },
  {
   "cell_type": "code",
   "execution_count": 17,
   "id": "cf178387-e2f6-4d63-ae28-7b93128b3cd5",
   "metadata": {},
   "outputs": [
    {
     "data": {
      "text/html": [
       "<div>\n",
       "<style scoped>\n",
       "    .dataframe tbody tr th:only-of-type {\n",
       "        vertical-align: middle;\n",
       "    }\n",
       "\n",
       "    .dataframe tbody tr th {\n",
       "        vertical-align: top;\n",
       "    }\n",
       "\n",
       "    .dataframe thead th {\n",
       "        text-align: right;\n",
       "    }\n",
       "</style>\n",
       "<table border=\"1\" class=\"dataframe\">\n",
       "  <thead>\n",
       "    <tr style=\"text-align: right;\">\n",
       "      <th></th>\n",
       "      <th>city</th>\n",
       "      <th>temperature</th>\n",
       "      <th>humidity</th>\n",
       "      <th>pressure</th>\n",
       "      <th>wind_speed</th>\n",
       "      <th>wind_direction</th>\n",
       "      <th>pm25</th>\n",
       "      <th>pm10</th>\n",
       "      <th>no2</th>\n",
       "      <th>so2</th>\n",
       "      <th>o3</th>\n",
       "      <th>co</th>\n",
       "      <th>aqi</th>\n",
       "      <th>hour</th>\n",
       "      <th>month</th>\n",
       "      <th>dayofweek</th>\n",
       "    </tr>\n",
       "  </thead>\n",
       "  <tbody>\n",
       "    <tr>\n",
       "      <th>0</th>\n",
       "      <td>13</td>\n",
       "      <td>30.450</td>\n",
       "      <td>74.100</td>\n",
       "      <td>990.425</td>\n",
       "      <td>0.300</td>\n",
       "      <td>21.7</td>\n",
       "      <td>252.0</td>\n",
       "      <td>332.0</td>\n",
       "      <td>62.4</td>\n",
       "      <td>4.8</td>\n",
       "      <td>22.4</td>\n",
       "      <td>35.7</td>\n",
       "      <td>332.0</td>\n",
       "      <td>13</td>\n",
       "      <td>3</td>\n",
       "      <td>2</td>\n",
       "    </tr>\n",
       "    <tr>\n",
       "      <th>1</th>\n",
       "      <td>1</td>\n",
       "      <td>26.675</td>\n",
       "      <td>74.350</td>\n",
       "      <td>980.650</td>\n",
       "      <td>1.375</td>\n",
       "      <td>55.3</td>\n",
       "      <td>256.0</td>\n",
       "      <td>234.0</td>\n",
       "      <td>59.2</td>\n",
       "      <td>11.9</td>\n",
       "      <td>2.1</td>\n",
       "      <td>33.8</td>\n",
       "      <td>256.0</td>\n",
       "      <td>13</td>\n",
       "      <td>3</td>\n",
       "      <td>2</td>\n",
       "    </tr>\n",
       "    <tr>\n",
       "      <th>2</th>\n",
       "      <td>4</td>\n",
       "      <td>28.775</td>\n",
       "      <td>62.925</td>\n",
       "      <td>984.350</td>\n",
       "      <td>0.300</td>\n",
       "      <td>221.3</td>\n",
       "      <td>265.0</td>\n",
       "      <td>210.0</td>\n",
       "      <td>48.3</td>\n",
       "      <td>5.1</td>\n",
       "      <td>8.2</td>\n",
       "      <td>35.1</td>\n",
       "      <td>265.0</td>\n",
       "      <td>13</td>\n",
       "      <td>3</td>\n",
       "      <td>2</td>\n",
       "    </tr>\n",
       "    <tr>\n",
       "      <th>3</th>\n",
       "      <td>11</td>\n",
       "      <td>26.575</td>\n",
       "      <td>78.525</td>\n",
       "      <td>991.300</td>\n",
       "      <td>0.300</td>\n",
       "      <td>313.6</td>\n",
       "      <td>251.0</td>\n",
       "      <td>177.0</td>\n",
       "      <td>16.5</td>\n",
       "      <td>1.8</td>\n",
       "      <td>1.7</td>\n",
       "      <td>24.9</td>\n",
       "      <td>251.0</td>\n",
       "      <td>13</td>\n",
       "      <td>3</td>\n",
       "      <td>2</td>\n",
       "    </tr>\n",
       "    <tr>\n",
       "      <th>4</th>\n",
       "      <td>12</td>\n",
       "      <td>22.300</td>\n",
       "      <td>71.425</td>\n",
       "      <td>985.650</td>\n",
       "      <td>0.300</td>\n",
       "      <td>347.1</td>\n",
       "      <td>282.0</td>\n",
       "      <td>347.0</td>\n",
       "      <td>43.1</td>\n",
       "      <td>5.2</td>\n",
       "      <td>3.4</td>\n",
       "      <td>29.9</td>\n",
       "      <td>347.0</td>\n",
       "      <td>13</td>\n",
       "      <td>3</td>\n",
       "      <td>2</td>\n",
       "    </tr>\n",
       "  </tbody>\n",
       "</table>\n",
       "</div>"
      ],
      "text/plain": [
       "   city  temperature  humidity  pressure  wind_speed  wind_direction   pm25  \\\n",
       "0    13       30.450    74.100   990.425       0.300            21.7  252.0   \n",
       "1     1       26.675    74.350   980.650       1.375            55.3  256.0   \n",
       "2     4       28.775    62.925   984.350       0.300           221.3  265.0   \n",
       "3    11       26.575    78.525   991.300       0.300           313.6  251.0   \n",
       "4    12       22.300    71.425   985.650       0.300           347.1  282.0   \n",
       "\n",
       "    pm10   no2   so2    o3    co    aqi  hour  month  dayofweek  \n",
       "0  332.0  62.4   4.8  22.4  35.7  332.0    13      3          2  \n",
       "1  234.0  59.2  11.9   2.1  33.8  256.0    13      3          2  \n",
       "2  210.0  48.3   5.1   8.2  35.1  265.0    13      3          2  \n",
       "3  177.0  16.5   1.8   1.7  24.9  251.0    13      3          2  \n",
       "4  347.0  43.1   5.2   3.4  29.9  347.0    13      3          2  "
      ]
     },
     "execution_count": 17,
     "metadata": {},
     "output_type": "execute_result"
    }
   ],
   "source": [
    "df.head()"
   ]
  },
  {
   "cell_type": "code",
   "execution_count": 18,
   "id": "cb5f1809-17f9-4538-b962-24826f7482d2",
   "metadata": {},
   "outputs": [],
   "source": [
    "from sklearn.model_selection import train_test_split"
   ]
  },
  {
   "cell_type": "code",
   "execution_count": 19,
   "id": "8b8744d4-8cfa-4e73-be8c-5d0a03df1f36",
   "metadata": {},
   "outputs": [],
   "source": [
    "X = df.drop(columns=['aqi'])\n",
    "y = df['aqi']"
   ]
  },
  {
   "cell_type": "code",
   "execution_count": 20,
   "id": "0e33e02c-c3c9-4e67-a05f-4315d9519f3b",
   "metadata": {},
   "outputs": [],
   "source": [
    "from sklearn.preprocessing import MinMaxScaler"
   ]
  },
  {
   "cell_type": "code",
   "execution_count": 21,
   "id": "d39dcd8c-4bcb-4ec3-9fd7-88a3c6fa7171",
   "metadata": {},
   "outputs": [],
   "source": [
    "X_train , X_test ,y_train , y_test = train_test_split(X,y ,\n",
    "                                                     test_size=0.2,\n",
    "                                                     random_state=42)"
   ]
  },
  {
   "cell_type": "code",
   "execution_count": 22,
   "id": "cfe6c9cd-5042-4a2f-a1ed-80d91c6ef3f5",
   "metadata": {},
   "outputs": [],
   "source": [
    "scaler = MinMaxScaler()\n",
    "\n",
    "X_train = scaler.fit_transform(X_train)\n",
    "X_test = scaler.transform(X_test)"
   ]
  },
  {
   "cell_type": "code",
   "execution_count": null,
   "id": "3e2da975-d20f-4f9c-9d64-5e3bedce4995",
   "metadata": {},
   "outputs": [],
   "source": []
  },
  {
   "cell_type": "code",
   "execution_count": 23,
   "id": "8aa1503e-b11b-47c3-b7aa-0aee60d8df7f",
   "metadata": {},
   "outputs": [],
   "source": [
    "import tensorflow\n",
    "from tensorflow import keras\n",
    "from tensorflow.keras import Sequential\n",
    "from tensorflow.keras.layers import Dense"
   ]
  },
  {
   "cell_type": "code",
   "execution_count": 24,
   "id": "1b1dec33-d773-4871-9543-12c36a078b8d",
   "metadata": {},
   "outputs": [],
   "source": [
    "model = Sequential()"
   ]
  },
  {
   "cell_type": "code",
   "execution_count": 25,
   "id": "ec50f0d9-793a-4587-ad51-31adbb55a4f8",
   "metadata": {},
   "outputs": [
    {
     "name": "stderr",
     "output_type": "stream",
     "text": [
      "C:\\Users\\itsam\\anaconda3\\Lib\\site-packages\\keras\\src\\layers\\core\\dense.py:93: UserWarning: Do not pass an `input_shape`/`input_dim` argument to a layer. When using Sequential models, prefer using an `Input(shape)` object as the first layer in the model instead.\n",
      "  super().__init__(activity_regularizer=activity_regularizer, **kwargs)\n"
     ]
    }
   ],
   "source": [
    "model.add(Dense(64, activation='relu', input_shape=(X_train.shape[1],)))\n",
    "model.add(Dense(32, activation='relu'))\n",
    "model.add(Dense(1)) "
   ]
  },
  {
   "cell_type": "code",
   "execution_count": 26,
   "id": "ae4ababe-efd7-4bc4-ad0e-40421b79841f",
   "metadata": {},
   "outputs": [
    {
     "data": {
      "text/html": [
       "<pre style=\"white-space:pre;overflow-x:auto;line-height:normal;font-family:Menlo,'DejaVu Sans Mono',consolas,'Courier New',monospace\"><span style=\"font-weight: bold\">Model: \"sequential\"</span>\n",
       "</pre>\n"
      ],
      "text/plain": [
       "\u001b[1mModel: \"sequential\"\u001b[0m\n"
      ]
     },
     "metadata": {},
     "output_type": "display_data"
    },
    {
     "data": {
      "text/html": [
       "<pre style=\"white-space:pre;overflow-x:auto;line-height:normal;font-family:Menlo,'DejaVu Sans Mono',consolas,'Courier New',monospace\">┏━━━━━━━━━━━━━━━━━━━━━━━━━━━━━━━━━━━━━━┳━━━━━━━━━━━━━━━━━━━━━━━━━━━━━┳━━━━━━━━━━━━━━━━━┓\n",
       "┃<span style=\"font-weight: bold\"> Layer (type)                         </span>┃<span style=\"font-weight: bold\"> Output Shape                </span>┃<span style=\"font-weight: bold\">         Param # </span>┃\n",
       "┡━━━━━━━━━━━━━━━━━━━━━━━━━━━━━━━━━━━━━━╇━━━━━━━━━━━━━━━━━━━━━━━━━━━━━╇━━━━━━━━━━━━━━━━━┩\n",
       "│ dense (<span style=\"color: #0087ff; text-decoration-color: #0087ff\">Dense</span>)                        │ (<span style=\"color: #00d7ff; text-decoration-color: #00d7ff\">None</span>, <span style=\"color: #00af00; text-decoration-color: #00af00\">64</span>)                  │           <span style=\"color: #00af00; text-decoration-color: #00af00\">1,024</span> │\n",
       "├──────────────────────────────────────┼─────────────────────────────┼─────────────────┤\n",
       "│ dense_1 (<span style=\"color: #0087ff; text-decoration-color: #0087ff\">Dense</span>)                      │ (<span style=\"color: #00d7ff; text-decoration-color: #00d7ff\">None</span>, <span style=\"color: #00af00; text-decoration-color: #00af00\">32</span>)                  │           <span style=\"color: #00af00; text-decoration-color: #00af00\">2,080</span> │\n",
       "├──────────────────────────────────────┼─────────────────────────────┼─────────────────┤\n",
       "│ dense_2 (<span style=\"color: #0087ff; text-decoration-color: #0087ff\">Dense</span>)                      │ (<span style=\"color: #00d7ff; text-decoration-color: #00d7ff\">None</span>, <span style=\"color: #00af00; text-decoration-color: #00af00\">1</span>)                   │              <span style=\"color: #00af00; text-decoration-color: #00af00\">33</span> │\n",
       "└──────────────────────────────────────┴─────────────────────────────┴─────────────────┘\n",
       "</pre>\n"
      ],
      "text/plain": [
       "┏━━━━━━━━━━━━━━━━━━━━━━━━━━━━━━━━━━━━━━┳━━━━━━━━━━━━━━━━━━━━━━━━━━━━━┳━━━━━━━━━━━━━━━━━┓\n",
       "┃\u001b[1m \u001b[0m\u001b[1mLayer (type)                        \u001b[0m\u001b[1m \u001b[0m┃\u001b[1m \u001b[0m\u001b[1mOutput Shape               \u001b[0m\u001b[1m \u001b[0m┃\u001b[1m \u001b[0m\u001b[1m        Param #\u001b[0m\u001b[1m \u001b[0m┃\n",
       "┡━━━━━━━━━━━━━━━━━━━━━━━━━━━━━━━━━━━━━━╇━━━━━━━━━━━━━━━━━━━━━━━━━━━━━╇━━━━━━━━━━━━━━━━━┩\n",
       "│ dense (\u001b[38;5;33mDense\u001b[0m)                        │ (\u001b[38;5;45mNone\u001b[0m, \u001b[38;5;34m64\u001b[0m)                  │           \u001b[38;5;34m1,024\u001b[0m │\n",
       "├──────────────────────────────────────┼─────────────────────────────┼─────────────────┤\n",
       "│ dense_1 (\u001b[38;5;33mDense\u001b[0m)                      │ (\u001b[38;5;45mNone\u001b[0m, \u001b[38;5;34m32\u001b[0m)                  │           \u001b[38;5;34m2,080\u001b[0m │\n",
       "├──────────────────────────────────────┼─────────────────────────────┼─────────────────┤\n",
       "│ dense_2 (\u001b[38;5;33mDense\u001b[0m)                      │ (\u001b[38;5;45mNone\u001b[0m, \u001b[38;5;34m1\u001b[0m)                   │              \u001b[38;5;34m33\u001b[0m │\n",
       "└──────────────────────────────────────┴─────────────────────────────┴─────────────────┘\n"
      ]
     },
     "metadata": {},
     "output_type": "display_data"
    },
    {
     "data": {
      "text/html": [
       "<pre style=\"white-space:pre;overflow-x:auto;line-height:normal;font-family:Menlo,'DejaVu Sans Mono',consolas,'Courier New',monospace\"><span style=\"font-weight: bold\"> Total params: </span><span style=\"color: #00af00; text-decoration-color: #00af00\">3,137</span> (12.25 KB)\n",
       "</pre>\n"
      ],
      "text/plain": [
       "\u001b[1m Total params: \u001b[0m\u001b[38;5;34m3,137\u001b[0m (12.25 KB)\n"
      ]
     },
     "metadata": {},
     "output_type": "display_data"
    },
    {
     "data": {
      "text/html": [
       "<pre style=\"white-space:pre;overflow-x:auto;line-height:normal;font-family:Menlo,'DejaVu Sans Mono',consolas,'Courier New',monospace\"><span style=\"font-weight: bold\"> Trainable params: </span><span style=\"color: #00af00; text-decoration-color: #00af00\">3,137</span> (12.25 KB)\n",
       "</pre>\n"
      ],
      "text/plain": [
       "\u001b[1m Trainable params: \u001b[0m\u001b[38;5;34m3,137\u001b[0m (12.25 KB)\n"
      ]
     },
     "metadata": {},
     "output_type": "display_data"
    },
    {
     "data": {
      "text/html": [
       "<pre style=\"white-space:pre;overflow-x:auto;line-height:normal;font-family:Menlo,'DejaVu Sans Mono',consolas,'Courier New',monospace\"><span style=\"font-weight: bold\"> Non-trainable params: </span><span style=\"color: #00af00; text-decoration-color: #00af00\">0</span> (0.00 B)\n",
       "</pre>\n"
      ],
      "text/plain": [
       "\u001b[1m Non-trainable params: \u001b[0m\u001b[38;5;34m0\u001b[0m (0.00 B)\n"
      ]
     },
     "metadata": {},
     "output_type": "display_data"
    }
   ],
   "source": [
    "model.summary()"
   ]
  },
  {
   "cell_type": "code",
   "execution_count": 27,
   "id": "f3c783d7-d48e-40e6-8bd9-922e12daf293",
   "metadata": {},
   "outputs": [],
   "source": [
    "model.compile(loss='mse' , optimizer='Adam' , metrics=['mae'])"
   ]
  },
  {
   "cell_type": "code",
   "execution_count": 28,
   "id": "4d410a87-1386-45fc-9593-d2e43d0cda3a",
   "metadata": {},
   "outputs": [
    {
     "name": "stdout",
     "output_type": "stream",
     "text": [
      "Epoch 1/10\n",
      "\u001b[1m58429/58429\u001b[0m \u001b[32m━━━━━━━━━━━━━━━━━━━━\u001b[0m\u001b[37m\u001b[0m \u001b[1m94s\u001b[0m 2ms/step - loss: 2683.4470 - mae: 19.1825 - val_loss: 101.0032 - val_mae: 5.1016\n",
      "Epoch 2/10\n",
      "\u001b[1m58429/58429\u001b[0m \u001b[32m━━━━━━━━━━━━━━━━━━━━\u001b[0m\u001b[37m\u001b[0m \u001b[1m94s\u001b[0m 2ms/step - loss: 100.9772 - mae: 5.2643 - val_loss: 94.6311 - val_mae: 5.0203\n",
      "Epoch 3/10\n",
      "\u001b[1m58429/58429\u001b[0m \u001b[32m━━━━━━━━━━━━━━━━━━━━\u001b[0m\u001b[37m\u001b[0m \u001b[1m540s\u001b[0m 9ms/step - loss: 92.3767 - mae: 5.1894 - val_loss: 86.1175 - val_mae: 4.9189\n",
      "Epoch 4/10\n",
      "\u001b[1m58429/58429\u001b[0m \u001b[32m━━━━━━━━━━━━━━━━━━━━\u001b[0m\u001b[37m\u001b[0m \u001b[1m95s\u001b[0m 2ms/step - loss: 86.6040 - mae: 5.0984 - val_loss: 69.8443 - val_mae: 4.5491\n",
      "Epoch 5/10\n",
      "\u001b[1m58429/58429\u001b[0m \u001b[32m━━━━━━━━━━━━━━━━━━━━\u001b[0m\u001b[37m\u001b[0m \u001b[1m94s\u001b[0m 2ms/step - loss: 69.3816 - mae: 4.7821 - val_loss: 57.2576 - val_mae: 4.7290\n",
      "Epoch 6/10\n",
      "\u001b[1m58429/58429\u001b[0m \u001b[32m━━━━━━━━━━━━━━━━━━━━\u001b[0m\u001b[37m\u001b[0m \u001b[1m94s\u001b[0m 2ms/step - loss: 51.1799 - mae: 4.3045 - val_loss: 27.0724 - val_mae: 2.9306\n",
      "Epoch 7/10\n",
      "\u001b[1m58429/58429\u001b[0m \u001b[32m━━━━━━━━━━━━━━━━━━━━\u001b[0m\u001b[37m\u001b[0m \u001b[1m93s\u001b[0m 2ms/step - loss: 25.3971 - mae: 3.0394 - val_loss: 16.3706 - val_mae: 2.3716\n",
      "Epoch 8/10\n",
      "\u001b[1m58429/58429\u001b[0m \u001b[32m━━━━━━━━━━━━━━━━━━━━\u001b[0m\u001b[37m\u001b[0m \u001b[1m100s\u001b[0m 2ms/step - loss: 16.5733 - mae: 2.5233 - val_loss: 12.9153 - val_mae: 2.1813\n",
      "Epoch 9/10\n",
      "\u001b[1m58429/58429\u001b[0m \u001b[32m━━━━━━━━━━━━━━━━━━━━\u001b[0m\u001b[37m\u001b[0m \u001b[1m95s\u001b[0m 2ms/step - loss: 11.8085 - mae: 2.1266 - val_loss: 8.4385 - val_mae: 1.6401\n",
      "Epoch 10/10\n",
      "\u001b[1m58429/58429\u001b[0m \u001b[32m━━━━━━━━━━━━━━━━━━━━\u001b[0m\u001b[37m\u001b[0m \u001b[1m93s\u001b[0m 2ms/step - loss: 8.9318 - mae: 1.8557 - val_loss: 6.8450 - val_mae: 1.6847\n"
     ]
    }
   ],
   "source": [
    "history = model.fit(X_train , y_train , epochs=10 , validation_split=0.2)"
   ]
  },
  {
   "cell_type": "code",
   "execution_count": 29,
   "id": "f25cbc66-660d-4d5b-8120-4d53cad279b1",
   "metadata": {},
   "outputs": [
    {
     "name": "stdout",
     "output_type": "stream",
     "text": [
      "\u001b[1m18259/18259\u001b[0m \u001b[32m━━━━━━━━━━━━━━━━━━━━\u001b[0m\u001b[37m\u001b[0m \u001b[1m14s\u001b[0m 744us/step\n"
     ]
    }
   ],
   "source": [
    "y_pred = model.predict(X_test)"
   ]
  },
  {
   "cell_type": "code",
   "execution_count": 30,
   "id": "5226847d-e500-4273-a969-9926ac3c6c2b",
   "metadata": {},
   "outputs": [],
   "source": [
    "from sklearn.metrics import r2_score"
   ]
  },
  {
   "cell_type": "code",
   "execution_count": 31,
   "id": "757e9497-e0ce-40c8-90c4-090b68c2fe70",
   "metadata": {},
   "outputs": [
    {
     "data": {
      "text/plain": [
       "0.9995854467188025"
      ]
     },
     "execution_count": 31,
     "metadata": {},
     "output_type": "execute_result"
    }
   ],
   "source": [
    "r2_score(y_test,y_pred)"
   ]
  },
  {
   "cell_type": "code",
   "execution_count": 32,
   "id": "74ce793e-b12a-4926-8444-46a9b693c188",
   "metadata": {},
   "outputs": [],
   "source": [
    "from sklearn.metrics import mean_absolute_error, root_mean_squared_error"
   ]
  },
  {
   "cell_type": "code",
   "execution_count": 33,
   "id": "77323adf-4f0b-4a0d-a2d9-85127ca47d88",
   "metadata": {},
   "outputs": [
    {
     "data": {
      "text/plain": [
       "1.6850433101774152"
      ]
     },
     "execution_count": 33,
     "metadata": {},
     "output_type": "execute_result"
    }
   ],
   "source": [
    "mean_absolute_error(y_test,y_pred)"
   ]
  },
  {
   "cell_type": "code",
   "execution_count": 34,
   "id": "45026d9d-06a8-40a8-9aa6-5e403810a785",
   "metadata": {},
   "outputs": [
    {
     "data": {
      "text/plain": [
       "2.6092708247771594"
      ]
     },
     "execution_count": 34,
     "metadata": {},
     "output_type": "execute_result"
    }
   ],
   "source": [
    "root_mean_squared_error(y_test,y_pred)"
   ]
  },
  {
   "cell_type": "code",
   "execution_count": 35,
   "id": "73d63091-aef6-4088-8e54-7e30ee430aee",
   "metadata": {},
   "outputs": [],
   "source": [
    "import matplotlib.pyplot as plt"
   ]
  },
  {
   "cell_type": "code",
   "execution_count": 37,
   "id": "84611457-2b23-4bda-a526-b32b8539048c",
   "metadata": {},
   "outputs": [
    {
     "data": {
      "text/plain": [
       "[<matplotlib.lines.Line2D at 0x1a583ddd280>]"
      ]
     },
     "execution_count": 37,
     "metadata": {},
     "output_type": "execute_result"
    },
    {
     "data": {
      "image/png": "[encoded data removed]",
      "text/plain": [
       "<Figure size 640x480 with 1 Axes>"
      ]
     },
     "metadata": {},
     "output_type": "display_data"
    }
   ],
   "source": [
    "plt.plot(history.history['loss'])\n",
    "plt.plot(history.history['val_loss'])"
   ]
  },
  {
   "cell_type": "code",
   "execution_count": 38,
   "id": "62e11cc2-b22c-45e8-a5b8-cbac91264e57",
   "metadata": {},
   "outputs": [
    {
     "data": {
      "text/plain": [
       "[<matplotlib.lines.Line2D at 0x1a583db6030>]"
      ]
     },
     "execution_count": 38,
     "metadata": {},
     "output_type": "execute_result"
    },
    {
     "data": {
      "image/png": "[encoded data removed]",
      "text/plain": [
       "<Figure size 640x480 with 1 Axes>"
      ]
     },
     "metadata": {},
     "output_type": "display_data"
    }
   ],
   "source": [
    "plt.plot(history.history['mae'])\n",
    "plt.plot(history.history['val_mae'])"
   ]
  },
  {
   "cell_type": "code",
   "execution_count": 39,
   "id": "a8fb3def-9857-49ca-af9e-d861d6a6c293",
   "metadata": {},
   "outputs": [
    {
     "name": "stderr",
     "output_type": "stream",
     "text": [
      "WARNING:absl:You are saving your model as an HDF5 file via `model.save()` or `keras.saving.save_model(model)`. This file format is considered legacy. We recommend using instead the native Keras format, e.g. `model.save('my_model.keras')` or `keras.saving.save_model(model, 'my_model.keras')`. \n"
     ]
    }
   ],
   "source": [
    "model.save(\"aqi_prediction_model_v1.h5\")\n"
   ]
  },
  {
   "cell_type": "code",
   "execution_count": null,
   "id": "b54293cf-165f-4b23-af18-5c3b0f12245f",
   "metadata": {},
   "outputs": [],
   "source": []
  }
 ],
 "metadata": {
  "kernelspec": {
   "display_name": "Python [conda env:base] *",
   "language": "python",
   "name": "conda-base-py"
  },
  "language_info": {
   "codemirror_mode": {
    "name": "ipython",
    "version": 3
   },
   "file_extension": ".py",
   "mimetype": "text/x-python",
   "name": "python",
   "nbconvert_exporter": "python",
   "pygments_lexer": "ipython3",
   "version": "3.12.7"
  }
 },
 "nbformat": 4,
 "nbformat_minor": 5
}
